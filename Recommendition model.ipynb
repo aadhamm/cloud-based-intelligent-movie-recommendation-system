{
 "cells": [
  {
   "cell_type": "code",
   "execution_count": null,
   "id": "c3029f4e-db92-4f6c-be99-b3dbe59d9d5f",
   "metadata": {
    "tags": []
   },
   "outputs": [],
   "source": [
    "# Example code for building and deploying a machine learning model on a cloud platform\n",
    "import numpy as np\n",
    "import pandas as pd\n",
    "from sklearn.model_selection import train_test_split\n",
    "from sklearn.linear_model import LogisticRegression\n",
    "import pickle\n",
    "import os\n",
    "import boto3"
   ]
  },
  {
   "cell_type": "code",
   "execution_count": null,
   "id": "d2dfce2d-eda6-46bb-b011-5d84a6c84f82",
   "metadata": {
    "tags": []
   },
   "outputs": [],
   "source": [
    "# Load data\n",
    "df = pd.read_csv('data.csv')"
   ]
  },
  {
   "cell_type": "code",
   "execution_count": null,
   "id": "454bfa05-8a83-4415-9b02-db53c88ef813",
   "metadata": {
    "tags": []
   },
   "outputs": [],
   "source": [
    "df.head()"
   ]
  },
  {
   "cell_type": "code",
   "execution_count": null,
   "id": "d95e0b25-4c1e-4811-b631-7d3d1b4aad73",
   "metadata": {
    "tags": []
   },
   "outputs": [],
   "source": [
    "# Split data into training and testing sets\n",
    "X_train, X_test, y_train, y_test = train_test_split(df.drop('target', axis=1), df['target'], test_size=0.3)"
   ]
  },
  {
   "cell_type": "code",
   "execution_count": null,
   "id": "df2efd7f-51a7-446c-b52f-4c99a8ecf6bb",
   "metadata": {
    "tags": []
   },
   "outputs": [],
   "source": [
    "# Train model\n",
    "clf = LogisticRegression()\n",
    "clf.fit(X_train, y_train)"
   ]
  },
  {
   "cell_type": "code",
   "execution_count": null,
   "id": "c2e12f98-ed86-4efa-9b39-c36f78d885b1",
   "metadata": {
    "tags": []
   },
   "outputs": [],
   "source": [
    "# Save model to disk\n",
    "filename = 'model.pkl'\n",
    "pickle.dump(clf, open(filename, 'wb'))"
   ]
  },
  {
   "cell_type": "code",
   "execution_count": null,
   "id": "6c3af9ad-02b0-4de0-8538-2f05afcd9b60",
   "metadata": {},
   "outputs": [],
   "source": [
    "# Set AWS credentials\n",
    "ACCESS_KEY = 'your-access-key'\n",
    "SECRET_KEY = 'your-secret-key'"
   ]
  },
  {
   "cell_type": "code",
   "execution_count": null,
   "id": "ef1e3733-c157-42c0-b170-ef4e0cf39593",
   "metadata": {},
   "outputs": [],
   "source": [
    "# Upload model to cloud platform\n",
    "s3 = boto3.resource('s3', aws_access_key_id=ACCESS_KEY, aws_secret_access_key=SECRET_KEY)\n",
    "bucket_name = 'my-bucket'\n",
    "bucket = s3.Bucket(bucket_name)\n",
    "bucket.upload_file(filename, filename)"
   ]
  },
  {
   "cell_type": "code",
   "execution_count": null,
   "id": "a5fb4320-5246-4359-9154-2d2672d3d0f1",
   "metadata": {},
   "outputs": [],
   "source": [
    "# Deploy model on cloud platform\n",
    "from sagemaker import Model\n",
    "from sagemaker.predictor import RealTimePredictor\n",
    "\n",
    "model_data = 's3://{}/{}'.format(bucket_name, filename)\n",
    "model = Model(model_data=model_data, role='SageMakerRole', image='my-image')\n",
    "predictor = model.deploy(initial_instance_count=1, instance_type='ml.t2.medium')"
   ]
  },
  {
   "cell_type": "code",
   "execution_count": null,
   "id": "0a239b66-f36e-4d2f-a35c-cbce2abd2798",
   "metadata": {},
   "outputs": [],
   "source": [
    "# Use model to make predictions\n",
    "data = np.array([[1, 2, 3, 4], [5, 6, 7, 8]])\n",
    "predictions = predictor.predict(data)\n",
    "print(predictions)"
   ]
  }
 ],
 "metadata": {
  "kernelspec": {
   "display_name": "Python 3 (ipykernel)",
   "language": "python",
   "name": "python3"
  },
  "language_info": {
   "codemirror_mode": {
    "name": "ipython",
    "version": 3
   },
   "file_extension": ".py",
   "mimetype": "text/x-python",
   "name": "python",
   "nbconvert_exporter": "python",
   "pygments_lexer": "ipython3",
   "version": "3.8.16"
  }
 },
 "nbformat": 4,
 "nbformat_minor": 5
}
